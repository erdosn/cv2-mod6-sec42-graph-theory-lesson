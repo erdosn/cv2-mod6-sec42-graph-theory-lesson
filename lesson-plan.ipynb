{
 "cells": [
  {
   "cell_type": "markdown",
   "metadata": {},
   "source": [
    "### Questions\n",
    "* the section seems a little off track\n",
    "    * hard to put things together on how it's used"
   ]
  },
  {
   "cell_type": "markdown",
   "metadata": {},
   "source": [
    "### Objectives\n",
    "YWBAT \n",
    "* define a complete graph\n",
    "* give examples of when to use graph theory\n",
    "* how is graph theory used today\n",
    "* calculate big O for various algorithms\n",
    "* create functions with a specific big O value\n",
    "\n",
    "\n",
    "#### What is big O Notation\n",
    "* a way of showing the number of FLOPS required for a function/code block\n",
    "\n",
    "#### Why big O?\n",
    "* graphs get massive...like super large...like huge\n",
    "    * building fast/efficient algorithms around them is crucial"
   ]
  },
  {
   "cell_type": "markdown",
   "metadata": {},
   "source": [
    "### Why is calculating/estimating edge numbers so important for computational studies?\n",
    "How many flops your code is going to do\n",
    "\n",
    "**flops** -> number of floating point operations per second -> algorithm efficiency\n",
    "\n",
    "**Big O** Notation\n",
    "* O(1) - constant time\n",
    "\n",
    "**Example**\n",
    "```\n",
    "def big_o_one():\n",
    "    \"\"\"\n",
    "    Number of flops: 1\n",
    "    \"\"\"\n",
    "    return 2\n",
    "    \n",
    "def big_o_one(a, b):\n",
    "    \"\"\"\n",
    "    Number of flops: 1\n",
    "    \"\"\"\n",
    "    return a + b\n",
    "\n",
    "print(big_o_one())\n",
    "print(big_o_one())\n",
    "```\n",
    "\n",
    "\n",
    "\n",
    "* O(n) - linear time\n",
    "\n",
    "**Example**\n",
    "\n",
    "```\n",
    "def big_o_n(array):\n",
    "    \"\"\"\n",
    "    Number of flops: len(array)\n",
    "    \"\"\"\n",
    "    new_array = []\n",
    "    for a in array:\n",
    "        new_array.append(a + 1)\n",
    "    return new_array\n",
    "```\n",
    "\n",
    "\n",
    "* O(nlogn) - n-logn time \n",
    "\n",
    "[algorithm here](https://adrianmejia.com/most-popular-algorithms-time-complexity-every-programmer-should-know-free-online-tutorial-course/#Binary-search)\n",
    "\n",
    "```\n",
    "binary search algorithm\n",
    "heapsort\n",
    "mergesort\n",
    "quicksort\n",
    "\n",
    "```\n",
    "\n",
    "* O(n^2) - n^2 time\n",
    "\n",
    "**Example**\n",
    "```\n",
    "def big_o_n_squared(array):\n",
    "    \"\"\"\n",
    "    Number of flops: n^2 -> len(array)*len(array)\n",
    "    \"\"\"\n",
    "    products = []\n",
    "    for i in array:\n",
    "        for j in array:\n",
    "            products.append(i * j)\n",
    "    return products   \n",
    "```\n",
    "\n",
    "\n",
    "* O(n^3) - n^3 time\n",
    "\n",
    "**Example**\n",
    "\n",
    "```\n",
    "def big_o_n_cubed(array):\n",
    "    \"\"\"\n",
    "    Number of flops: n^3 -> \n",
    "    \"\"\"\n",
    "    products = []\n",
    "    for i in array:\n",
    "       for j in array:\n",
    "           for k in array:\n",
    "               products.append(i*j*k)\n",
    "    return products\n",
    "```"
   ]
  },
  {
   "cell_type": "code",
   "execution_count": 1,
   "metadata": {},
   "outputs": [],
   "source": [
    "# Example of O(1)\n",
    "def first(arr):\n",
    "    return arr[0] + arr[1]\n",
    "\n",
    "\n",
    "# Big(O) = n\n",
    "def cap(arr): # arr has length n then this has n FLOPS\n",
    "    cap_arr = []\n",
    "    for word in arr:\n",
    "        cap_arr.append(word.capitalize())\n",
    "    return cap_arr\n",
    "\n",
    "\n",
    "# Big(0) = O(cap_back) = n (Ex: 10n ~ n)\n",
    "# flops = 2n\n",
    "def cap_back(arr):\n",
    "    cap_back_arr = []\n",
    "    \n",
    "    for word in arr:\n",
    "        cap_back_arr.append(word[::-1])\n",
    "    \n",
    "    for index, word in enumerate(cap_back_arr):\n",
    "        cap_back_arr[index] = word.capitalize()\n",
    "    \n",
    "    return cap_back_arr\n",
    "\n",
    "\n",
    "# O(n^2)\n",
    "def f(arr): # if len(arr) == 5 then FLOPS = 25\n",
    "    f = []\n",
    "    for word1 in arr: # 5 flops\n",
    "        for word2 in arr: # 5 flops for every flop above , 5x5 -> 25\n",
    "            if word1 == word2:\n",
    "                continue\n",
    "            if word1[0] == word2[0]:\n",
    "                f.append((word1, word2))\n",
    "    return f\n",
    "\n",
    "\n",
    "# how could we write an 0(n^3)\n",
    "def f3(arr): # if len(arr) == 5 then FLOPS = 125\n",
    "    f = []\n",
    "    for word1 in arr:\n",
    "        for word2 in arr:\n",
    "            for word3 in arr:\n",
    "                continue\n",
    "                \n",
    "    return f"
   ]
  },
  {
   "cell_type": "code",
   "execution_count": 2,
   "metadata": {},
   "outputs": [
    {
     "data": {
      "text/plain": [
       "1566934823.699763"
      ]
     },
     "execution_count": 2,
     "metadata": {},
     "output_type": "execute_result"
    }
   ],
   "source": [
    "import time\n",
    "time.time()"
   ]
  },
  {
   "cell_type": "code",
   "execution_count": 13,
   "metadata": {},
   "outputs": [],
   "source": [
    "# O(n3)\n",
    "def f3(arr):\n",
    "    p = 1\n",
    "    for i in arr:\n",
    "        for i in arr:\n",
    "            for i in arr:\n",
    "                p = 2\n",
    "    return None\n",
    "\n",
    "\n",
    "# O(n2)\n",
    "def f2(arr):\n",
    "    p = 1\n",
    "    for i in arr:\n",
    "        for i in arr:\n",
    "            p = 2\n",
    "    return None\n",
    "\n",
    "# O(n1)\n",
    "def f1(arr):\n",
    "    p = 1\n",
    "    for i in arr:\n",
    "        p = 2\n",
    "    return None\n",
    "\n",
    "# O(k) (constant)\n",
    "def f0(arr):\n",
    "    p = 1\n",
    "    return None"
   ]
  },
  {
   "cell_type": "code",
   "execution_count": 19,
   "metadata": {},
   "outputs": [],
   "source": [
    "# This loop will run each function 1000 times and record the time it takes to run through them. \n",
    "# Each iteration will increase the array by 1 unit.\n",
    "t1, t2, t3 = [], [], []\n",
    "\n",
    "for i in range(1, 100):\n",
    "    arr = list(range(i))\n",
    "    \n",
    "    # going through f1 (linear time)\n",
    "    start = time.time()\n",
    "    f1(arr)\n",
    "    t1_ = time.time() - start\n",
    "    \n",
    "    t1.append(t1_)\n",
    "    \n",
    "    \n",
    "    # going through f2 (squared time)\n",
    "    start = time.time()\n",
    "    f2(arr)\n",
    "    t2_ = time.time() - start\n",
    "    t2.append(t2_)\n",
    "    \n",
    "    \n",
    "    # going through f3 (cubic time)\n",
    "    start = time.time()\n",
    "    f3(arr)\n",
    "    t3_ = time.time() - start\n",
    "    \n",
    "    t3.append(t3_)"
   ]
  },
  {
   "cell_type": "code",
   "execution_count": 20,
   "metadata": {},
   "outputs": [
    {
     "data": {
      "image/png": "[encoded data removed]",
      "text/plain": [
       "<Figure size 432x288 with 1 Axes>"
      ]
     },
     "metadata": {
      "needs_background": "light"
     },
     "output_type": "display_data"
    }
   ],
   "source": [
    "# Let's graph the n, n^2 and n^3 functions on time\n",
    "import matplotlib.pyplot as plt\n",
    "plt.plot(range(len(t3)), t3, label='n3')\n",
    "plt.plot(range(len(t2)), t2, label='n2')\n",
    "plt.plot(range(len(t1)), t1, label='n')\n",
    "plt.legend()\n",
    "plt.show()"
   ]
  },
  {
   "cell_type": "code",
   "execution_count": 21,
   "metadata": {},
   "outputs": [
    {
     "data": {
      "image/png": "[encoded data removed]",
      "text/plain": [
       "<Figure size 432x288 with 1 Axes>"
      ]
     },
     "metadata": {
      "needs_background": "light"
     },
     "output_type": "display_data"
    }
   ],
   "source": [
    "# Let's just look at n, n2\n",
    "plt.plot(range(len(t2)), t2, label='n2')\n",
    "plt.plot(range(len(t1)), t1, label='n')\n",
    "plt.legend()\n",
    "plt.show()"
   ]
  },
  {
   "cell_type": "markdown",
   "metadata": {},
   "source": [
    "### How are graphs used?\n",
    "* Networks\n",
    "    * Finding people really close together\n",
    "        *  connect users on purchase history \n",
    "        *  connect user demographical \n",
    "* Recommender Systems\n",
    "    * 1 graph (grid) of users\n",
    "    * 1 graph (grid) of items/movies/songs\n",
    "    * find similar users and find what 1 user likes and recommend to the other\n",
    "\n",
    "* Neural Networks\n",
    "    * Layers - nodes\n",
    "    * Layers are connected by edges\n",
    "    * Talk more later\n",
    "    \n",
    "* PGMs - Probabilistic Graphical Models\n",
    "    * super super fast compared to ML models\n",
    "    * Markov Chains\n",
    "        * connect items based on frequency\n",
    "    * PGMs are really defined by the edges they use\n",
    "        * Using Poisson Distributions\n",
    "        * Normal Distribution\n",
    "        * Beta Distribution"
   ]
  },
  {
   "cell_type": "markdown",
   "metadata": {},
   "source": [
    "### Outline"
   ]
  },
  {
   "cell_type": "code",
   "execution_count": 25,
   "metadata": {},
   "outputs": [],
   "source": [
    "import pandas as pd\n",
    "import numpy as np\n",
    "\n",
    "import matplotlib.pyplot as plt"
   ]
  },
  {
   "cell_type": "markdown",
   "metadata": {},
   "source": [
    "### Assessment\n",
    "* creativity in coding is very useful to DS\n",
    "* basics of bigO notation and the importance of avoiding nested for loops"
   ]
  },
  {
   "cell_type": "code",
   "execution_count": null,
   "metadata": {},
   "outputs": [],
   "source": []
  }
 ],
 "metadata": {
  "kernelspec": {
   "display_name": "Python 3",
   "language": "python",
   "name": "python3"
  },
  "language_info": {
   "codemirror_mode": {
    "name": "ipython",
    "version": 3
   },
   "file_extension": ".py",
   "mimetype": "text/x-python",
   "name": "python",
   "nbconvert_exporter": "python",
   "pygments_lexer": "ipython3",
   "version": "3.6.0"
  }
 },
 "nbformat": 4,
 "nbformat_minor": 2
}
